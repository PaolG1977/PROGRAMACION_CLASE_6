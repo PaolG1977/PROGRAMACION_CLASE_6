Actividad clase 6 algo 
